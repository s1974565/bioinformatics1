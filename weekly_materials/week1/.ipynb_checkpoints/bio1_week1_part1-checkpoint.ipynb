{
 "cells": [
  {
   "cell_type": "markdown",
   "metadata": {},
   "source": [
    "# Part 1 - Introduction to Python and the Jupyter Notebook"
   ]
  },
  {
   "cell_type": "markdown",
   "metadata": {},
   "source": [
    "In this course we will make extensive use of Jupyter notebooks. Jupyter notebooks offer an interactive python session inside a browser, with great added functionality such as markdown support, widgets and much more. They are a great tool for data exploration, and freqently used in data science.\n",
    "\n",
    "To find out more:\n",
    "*http://jupyter.org/*\n",
    "\n",
    "This site has numerous examples and tutorials:\n",
    "*https://github.com/jupyter/jupyter/wiki/A-gallery-of-interesting-Jupyter-Notebooks*"
   ]
  },
  {
   "cell_type": "markdown",
   "metadata": {},
   "source": [
    "### Jupyter in the LEARN environment\n",
    "\n",
    "We are currently running a Python3 Jupyter Notebook within the LEARN system. This means there is no need for you to set Jupyter up on your own system you can do everything that you need for the upcoming lectures inside here. You may chose to install it locally for use during your coursework. If so you should first need to [install Python](https://www.python.org/downloads/) and then visit the [Jupyter Install page](http://jupyter.org/install) and follow the instructions there."
   ]
  },
  {
   "cell_type": "markdown",
   "metadata": {},
   "source": [
    "### Notebook Basics\n",
    "\n",
    "The notebook is organised in cells, each of which can hold markdown text (as this one) or python code. To execute the code in a cell, press the key combination ``Shift`` + ``Return`` or click the \"Run\" button in the control bar along the top of the Notebook.\n",
    "\n",
    "You can try this in the cell below, where we assign a string to the variable ``a`` and then print it:"
   ]
  },
  {
   "cell_type": "code",
   "execution_count": 1,
   "metadata": {},
   "outputs": [
    {
     "name": "stdout",
     "output_type": "stream",
     "text": [
      "ATG\n"
     ]
    }
   ],
   "source": [
    "a = 'ATG'\n",
    "print(a)"
   ]
  },
  {
   "cell_type": "markdown",
   "metadata": {},
   "source": [
    "Once the cell above has been executed, the interpreter knows about ``a``, so we can start woking with it in the python way:"
   ]
  },
  {
   "cell_type": "code",
   "execution_count": 2,
   "metadata": {
    "scrolled": true
   },
   "outputs": [
    {
     "name": "stdout",
     "output_type": "stream",
     "text": [
      "ATGATG\n",
      "ATGGTA\n",
      "3\n",
      "9\n"
     ]
    }
   ],
   "source": [
    "print(a+a)\n",
    "print(a+a[::-1])\n",
    "print(len(a))\n",
    "print(len(a)**2)"
   ]
  },
  {
   "cell_type": "markdown",
   "metadata": {},
   "source": [
    "### Further Python Basics\n",
    "Using the same approach as we used for uploading this Python Notebook you can download some more notebooks that introduce a range of basic python concepts from the [Python-Lectures](https://github.com/rajathkmp/Python-Lectures/blob/master/01.ipynb) GitHub site."
   ]
  },
  {
   "cell_type": "markdown",
   "metadata": {},
   "source": [
    "## Biopython\n",
    "\n",
    "*http://biopython.org/*\n",
    "\n",
    "Biopython provides tools for analysis of genomics and proteomic data. We will use this throughout the course, so make sure this runs on your computer.\n",
    "\n",
    "First we need to install the Biopython package in your environment. **You only need to do this once**, it will remain in your account space througout the course."
   ]
  },
  {
   "cell_type": "code",
   "execution_count": 3,
   "metadata": {},
   "outputs": [],
   "source": [
    "### Install the biopython package in your Noteable environment\n",
    "# %pip install biopython\n",
    "\n",
    "import Bio"
   ]
  },
  {
   "cell_type": "markdown",
   "metadata": {},
   "source": [
    "You can find an excellent [biopython cookbook](http://biopython.org/DIST/docs/tutorial/Tutorial.html) written by the biopython community in the resource list for this course that you can practice with to familiarise yourself with some of its functionality."
   ]
  },
  {
   "cell_type": "markdown",
   "metadata": {},
   "source": [
    "### Create a DNA sequence using BioPython"
   ]
  },
  {
   "cell_type": "code",
   "execution_count": 4,
   "metadata": {},
   "outputs": [
    {
     "name": "stdout",
     "output_type": "stream",
     "text": [
      "AGTACACTGGT\n"
     ]
    }
   ],
   "source": [
    "from Bio.Seq import Seq\n",
    "my_seq = Seq(\"AGTACACTGGT\")\n",
    "print(my_seq)"
   ]
  },
  {
   "cell_type": "markdown",
   "metadata": {},
   "source": [
    "### Basic operations on DNA sequences"
   ]
  },
  {
   "cell_type": "code",
   "execution_count": 10,
   "metadata": {},
   "outputs": [
    {
     "name": "stdout",
     "output_type": "stream",
     "text": [
      "11 nucletotides long\n",
      "%GC content =  0.45454545454545453 %\n",
      "%GC content = 0.45%\n"
     ]
    }
   ],
   "source": [
    "#sequence length\n",
    "print(len(my_seq), \"nucletotides long\")\n",
    "\n",
    "#sequence %GC content (Calculating G+C percentage in seq (5 / 11))\n",
    "from Bio.SeqUtils import gc_fraction\n",
    "\n",
    "#simple print\n",
    "print(\"%GC content = \",gc_fraction(my_seq),\"%\")\n",
    "\n",
    "#printing to two decimal places\n",
    "print(\"%GC content = \"+'%4.2f' % gc_fraction(my_seq)+\"%\")"
   ]
  },
  {
   "cell_type": "code",
   "execution_count": 11,
   "metadata": {},
   "outputs": [
    {
     "name": "stdout",
     "output_type": "stream",
     "text": [
      "original sequence AGTACACTGGT\n",
      "indexing from 1->5 GTAC\n",
      "indexing from 0->5 AGTAC\n"
     ]
    }
   ],
   "source": [
    "#original sequence\n",
    "print(\"original sequence\",my_seq)\n",
    "\n",
    "#sequence slicing NB this displays nucleotides 2-5\n",
    "print(\"indexing from 1->5\",my_seq[1:5])\n",
    "\n",
    "#the sequence is indexed from 0\n",
    "print(\"indexing from 0->5\",my_seq[0:5])"
   ]
  },
  {
   "cell_type": "code",
   "execution_count": 14,
   "metadata": {},
   "outputs": [
    {
     "name": "stdout",
     "output_type": "stream",
     "text": [
      "TCATGTGACCA\n",
      "AGTACACTGGT\n",
      "ACCAGTGTACT\n",
      "ACCAGTGTACT\n"
     ]
    }
   ],
   "source": [
    "#complement of the sequence (A <-> T, C <-> G)\n",
    "print(my_seq.complement())\n",
    "print(my_seq.complement().complement())\n",
    "\n",
    "#reverse complement of the sequence\n",
    "print(my_seq.reverse_complement())\n",
    "print(my_seq[::-1].complement())"
   ]
  },
  {
   "cell_type": "markdown",
   "metadata": {},
   "source": [
    "### Biopython contains useful meta-data"
   ]
  },
  {
   "cell_type": "code",
   "execution_count": 19,
   "metadata": {},
   "outputs": [
    {
     "name": "stdout",
     "output_type": "stream",
     "text": [
      "Table 1 Standard, SGC0\n",
      "\n",
      "  |  T      |  C      |  A      |  G      |\n",
      "--+---------+---------+---------+---------+--\n",
      "T | TTT F   | TCT S   | TAT Y   | TGT C   | T\n",
      "T | TTC F   | TCC S   | TAC Y   | TGC C   | C\n",
      "T | TTA L   | TCA S   | TAA Stop| TGA Stop| A\n",
      "T | TTG L(s)| TCG S   | TAG Stop| TGG W   | G\n",
      "--+---------+---------+---------+---------+--\n",
      "C | CTT L   | CCT P   | CAT H   | CGT R   | T\n",
      "C | CTC L   | CCC P   | CAC H   | CGC R   | C\n",
      "C | CTA L   | CCA P   | CAA Q   | CGA R   | A\n",
      "C | CTG L(s)| CCG P   | CAG Q   | CGG R   | G\n",
      "--+---------+---------+---------+---------+--\n",
      "A | ATT I   | ACT T   | AAT N   | AGT S   | T\n",
      "A | ATC I   | ACC T   | AAC N   | AGC S   | C\n",
      "A | ATA I   | ACA T   | AAA K   | AGA R   | A\n",
      "A | ATG M(s)| ACG T   | AAG K   | AGG R   | G\n",
      "--+---------+---------+---------+---------+--\n",
      "G | GTT V   | GCT A   | GAT D   | GGT G   | T\n",
      "G | GTC V   | GCC A   | GAC D   | GGC G   | C\n",
      "G | GTA V   | GCA A   | GAA E   | GGA G   | A\n",
      "G | GTG V   | GCG A   | GAG E   | GGG G   | G\n",
      "--+---------+---------+---------+---------+--\n"
     ]
    }
   ],
   "source": [
    "# A codon table can be used to translate a genetic code into a sequence of amino acids\n",
    "from Bio.Data import CodonTable\n",
    "standard_table = CodonTable.unambiguous_dna_by_id[1]\n",
    "\n",
    "print(standard_table)"
   ]
  },
  {
   "cell_type": "code",
   "execution_count": 16,
   "metadata": {},
   "outputs": [
    {
     "name": "stdout",
     "output_type": "stream",
     "text": [
      "['TAA', 'TAG', 'TGA']\n"
     ]
    }
   ],
   "source": [
    "#and STOP codons\n",
    "print(standard_table.stop_codons)"
   ]
  },
  {
   "cell_type": "markdown",
   "metadata": {},
   "source": [
    "### Challenge 1 - Creating a Random Sequence\n",
    "An **optional** challenge to get a bit of basic practice manipulating sequences in BioPython. I will post example answers on the course Discussion Board before next week's class.\n",
    "\n",
    "Create a random DNA sequence of length 100 base pairs and print it out. HINT you will need to use the Python ``random`` function."
   ]
  },
  {
   "cell_type": "code",
   "execution_count": 26,
   "metadata": {},
   "outputs": [
    {
     "data": {
      "text/plain": [
       "Seq('GAGTCCCTACCCGCAGGGCGGCCAGAGGATACTTAGGGCTAAAGGACGGATAGC...TAG')"
      ]
     },
     "execution_count": 26,
     "metadata": {},
     "output_type": "execute_result"
    }
   ],
   "source": [
    "import random\n",
    "\n",
    "random_sequence_list = random.choices([\"A\", \"T\", \"C\", \"G\"], k=100)\n",
    "random_sequence = Seq(\"\".join(random_sequence_list))\n",
    "random_sequence"
   ]
  },
  {
   "cell_type": "markdown",
   "metadata": {},
   "source": [
    "### Challenge 2 - Creating Mutated Sequences\n",
    "\n",
    "Another **optional** challenge, again I will post a possible answer on the course Discussion Board before next week's class. First I will help out by introducing some functions that you will probably want to use. There are many ways to do this so there is no one correct answer!\n",
    "\n",
    "Using the random sequence you created above, make 20 random mutations in it replacing the original base with a random lower case one. Then print the original sequence with the mutated sequence below it.\n",
    "\n",
    "HINT 1 - You will need to convert your random sequence into a ``MutableSeq`` object, see the BioPython cookbook for an example of it in use.\n",
    "\n",
    "HINT 2 - You will want to select a random position in the sequence, you'll probably want to use the ``random.randrange()`` function for that.\n",
    "\n",
    "Your final ouput should look like this:-\n",
    "\n",
    "```\n",
    "GTAAGCGCGTTGGGTTTGAAAGCCCACCGCAAAATGAAGCTCTAAGCAAACTGGGATAAATTGGCGACCCCGCACTGTTAGGACCGAAAGGTTTGTGACA\n",
    "cTgcGCcCGTTGGGTTTGcAcGCCCACtGtAAAATGAAGttCTAAGCAAACTGGGATAAATTGtCGtCtCCGCACTGTTgGGACCGgAAGGTTTGtGcCA\n",
    "```"
   ]
  },
  {
   "cell_type": "code",
   "execution_count": 43,
   "metadata": {},
   "outputs": [
    {
     "data": {
      "text/plain": [
       "array([86, 54, 70, 68, 94, 95, 42,  9, 34,  3, 28, 19, 26,  4,  3, 19, 49,\n",
       "       10, 49, 92])"
      ]
     },
     "execution_count": 43,
     "metadata": {},
     "output_type": "execute_result"
    }
   ],
   "source": [
    "np.random.randint(0, 99, 20)"
   ]
  },
  {
   "cell_type": "code",
   "execution_count": 48,
   "metadata": {},
   "outputs": [
    {
     "name": "stdout",
     "output_type": "stream",
     "text": [
      "GAGTCCCTACCCGCAGGGCGGCCAGAGGATACTTAGGGCTAAAGGACGGATAGCCTTGGGACGGTCATACCCGGCTCGATTGAGGCCTACAAGGAAGTAG\n",
      "gaGTccCtACCCGCAGGGCGGCCAGaGGAtACTTAGGGcTAAAGGACGGATAGCCTtGggACGGTCaTAcCCGGCTCgATTgaggCCTACAAGGaAGtAG\n"
     ]
    }
   ],
   "source": [
    "from numpy.random import default_rng\n",
    "from Bio.Seq import MutableSeq\n",
    "\n",
    "# tomutable() is removed in the version 1.81\n",
    "rs_mutable = MutableSeq(random_sequence)\n",
    "mutation_dict = {\"A\": \"a\", \"T\": \"t\", \"G\": \"g\", \"C\": \"c\"}\n",
    "\n",
    "rng = default_rng()\n",
    "locations = rng.choice(100, size=20, replace=False)\n",
    "\n",
    "for location in locations:\n",
    "    rs_mutable[location] = mutation_dict[rs_mutable[location]]\n",
    "\n",
    "print(random_sequence)\n",
    "print(rs_mutable)"
   ]
  },
  {
   "cell_type": "markdown",
   "metadata": {},
   "source": [
    "## Matplotlib"
   ]
  },
  {
   "cell_type": "markdown",
   "metadata": {},
   "source": [
    "This is essentailly a library for data ploting, and is useful to use in combination with ``numpy``. Try this:"
   ]
  },
  {
   "cell_type": "code",
   "execution_count": 49,
   "metadata": {},
   "outputs": [],
   "source": [
    "import matplotlib.pyplot as plt"
   ]
  },
  {
   "cell_type": "code",
   "execution_count": 50,
   "metadata": {},
   "outputs": [
    {
     "data": {
      "text/plain": [
       "[<matplotlib.lines.Line2D at 0x179d1f64850>]"
      ]
     },
     "execution_count": 50,
     "metadata": {},
     "output_type": "execute_result"
    },
    {
     "data": {
      "image/png": "[encoded data removed]",
      "text/plain": [
       "<Figure size 640x480 with 1 Axes>"
      ]
     },
     "metadata": {},
     "output_type": "display_data"
    }
   ],
   "source": [
    "plt.plot(np.random.rand(20),np.random.rand(20),'o')"
   ]
  },
  {
   "cell_type": "markdown",
   "metadata": {},
   "source": [
    "### Python help system\n",
    "\n",
    "Python libraries and functions are well documented. To see help for a function easily from a cell you can type ``?function`` and execute the cell. This will show extended documentation at the bottom of the screen\n",
    "\n",
    "Execute this cell to try:"
   ]
  },
  {
   "cell_type": "code",
   "execution_count": null,
   "metadata": {},
   "outputs": [],
   "source": [
    "?plt.plot"
   ]
  },
  {
   "cell_type": "markdown",
   "metadata": {},
   "source": [
    "### Shutting Down the Notebook\n",
    "\n",
    "To shutdown the Notebook choose \"File->Close and Halt\" from the menu at the top of the Notebook.\n",
    "\n",
    "### Questions?\n",
    "\n",
    "Any questions feel free to put any quesitons on the Discussion Forum in the \"Tutorial Information & Discussion\" Channel."
   ]
  },
  {
   "cell_type": "code",
   "execution_count": null,
   "metadata": {},
   "outputs": [],
   "source": []
  }
 ],
 "metadata": {
  "kernelspec": {
   "display_name": "Python 3 (ipykernel)",
   "language": "python",
   "name": "python3"
  },
  "language_info": {
   "codemirror_mode": {
    "name": "ipython",
    "version": 3
   },
   "file_extension": ".py",
   "mimetype": "text/x-python",
   "name": "python",
   "nbconvert_exporter": "python",
   "pygments_lexer": "ipython3",
   "version": "3.9.18"
  },
  "vscode": {
   "interpreter": {
    "hash": "40d3a090f54c6569ab1632332b64b2c03c39dcf918b08424e98f38b5ae0af88f"
   }
  }
 },
 "nbformat": 4,
 "nbformat_minor": 4
}
